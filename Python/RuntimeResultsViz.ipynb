{
 "cells": [
  {
   "cell_type": "code",
   "execution_count": 2,
   "metadata": {},
   "outputs": [],
   "source": [
    "import numpy as np\n",
    "import matplotlib.pyplot as plt\n",
    "from general_IO import read_column"
   ]
  },
  {
   "cell_type": "code",
   "execution_count": 3,
   "metadata": {},
   "outputs": [],
   "source": [
    "def ByteToMegaByte(_bytes):\n",
    "    return _bytes / (1024*1024)\n",
    "\n",
    "def NanoToMilli(_ns):\n",
    "    return _ns / 1000000\n",
    "\n",
    "def AverageTimes(_npArr2):\n",
    "    return np.sum(_npArr2, axis = 0) / _npArr2.shape[0]"
   ]
  },
  {
   "cell_type": "code",
   "execution_count": 4,
   "metadata": {},
   "outputs": [],
   "source": [
    "nbRepeats=100 #Number of time we run the writing process\n",
    "nbRefs=[10, 100, 1000, 10000, 100000] #Number of objects for which we will override the translation, rotation, and scale.\n",
    "nbBatch=[1, 2, 5, 10] #number of files in which the objects are going to be dispatched.\n",
    "usdExtension = [\"usda\", \"usdc\"] #whether we use usda or usdc"
   ]
  },
  {
   "cell_type": "code",
   "execution_count": 5,
   "metadata": {},
   "outputs": [
    {
     "name": "stdout",
     "output_type": "stream",
     "text": [
      "360_bytes__for_10_objects_in_1_usda_files.csv\n"
     ]
    }
   ],
   "source": [
    "nbRefs=10 #Number of objects for which we will override the translation, rotation, and scale.\n",
    "nbBatch=1 #number of files in which the objects are going to be dispatched.\n",
    "usdExtension = \"usda\" #whether we use usda or usdc\n",
    "totalBytesWritten=3*3*4*nbRefs\n",
    "filename = \"{}_bytes__for_{}_objects_in_{}_{}_files.csv\".format(totalBytesWritten, nbRefs, nbBatch, usdExtension)\n",
    "print(filename)"
   ]
  },
  {
   "cell_type": "code",
   "execution_count": 6,
   "metadata": {},
   "outputs": [],
   "source": [
    "timingsSTR = read_column(\"./RuntimeResults\", filename, [1,2,3,4], \",\")\n",
    "timingsHeaders = timingsNames=[\"UsdCreate\", \"Define World\", \"Add {} Refs to {} File(s)\".format(nbRefs, nbBatch), \"Save {} File\".format(nbBatch)]\n",
    "timingsSTRSplit = [timing.split() for timing in timingsSTR[1:]]\n",
    "timings = np.array(timingsSTRSplit).astype(np.int64)"
   ]
  },
  {
   "cell_type": "markdown",
   "metadata": {},
   "source": [
    "## Show timings in milliseconds for each of the 4 \"code parts\""
   ]
  },
  {
   "cell_type": "code",
   "execution_count": null,
   "metadata": {},
   "outputs": [],
   "source": [
    "#Use NanoToMilli to convert the timings from nanoseconds to milliseconds\n",
    "timingsMs= NanoToMilli(timings)\n",
    "averageTimingsInMilSec = AverageTimes(timings)\n",
    "print(averageTimingsInMilSec)\n",
    "\n",
    "stdTimingsinMilSec = np.std(timings, axis = 0)\n",
    "print(stdTimingsinMilSec)\n",
    "\n",
    "title = \"Average time per \\\"code part\\\" to override {} bytes for {} objects in {} files\".format(totalBytesWritten, nbRefs, nbBatch)\n",
    "\n",
    "plt.bar(np.arange(4)*30, averageTimingsInMilSec, 10, tick_label=timingsHeaders, yerr = stdTimingsinMilSec)\n",
    "plt.ylabel(\"Time (ms)\")\n",
    "plt.title(title)\n",
    "plt.show()"
   ]
  },
  {
   "cell_type": "code",
   "execution_count": null,
   "metadata": {},
   "outputs": [],
   "source": []
  }
 ],
 "metadata": {
  "kernelspec": {
   "display_name": "Python 3",
   "language": "python",
   "name": "python3"
  },
  "language_info": {
   "codemirror_mode": {
    "name": "ipython",
    "version": 3
   },
   "file_extension": ".py",
   "mimetype": "text/x-python",
   "name": "python",
   "nbconvert_exporter": "python",
   "pygments_lexer": "ipython3",
   "version": "3.11.8"
  }
 },
 "nbformat": 4,
 "nbformat_minor": 2
}
